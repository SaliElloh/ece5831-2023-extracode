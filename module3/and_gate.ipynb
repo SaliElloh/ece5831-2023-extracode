{
 "cells": [
  {
   "cell_type": "markdown",
   "metadata": {},
   "source": [
    "# AND Gate Implementation\n",
    "\n",
    "Jaerock Kwon\n",
    "\n",
    "Let's make a simple AND gate."
   ]
  },
  {
   "cell_type": "code",
   "execution_count": 1,
   "metadata": {},
   "outputs": [],
   "source": [
    "def and_gate(x1, x2):\n",
    "    w1 = 0.5\n",
    "    w2 = 0.5\n",
    "    th = 0.99\n",
    "\n",
    "    if w1*x1 + w2*x2 > th:\n",
    "        return 1\n",
    "    else:\n",
    "        return 0"
   ]
  },
  {
   "cell_type": "code",
   "execution_count": 9,
   "metadata": {},
   "outputs": [],
   "source": [
    "x1 = 0\n",
    "x2 = 0\n",
    "out = and_gate(x1, x2)"
   ]
  },
  {
   "cell_type": "code",
   "execution_count": 10,
   "metadata": {},
   "outputs": [
    {
     "name": "stdout",
     "output_type": "stream",
     "text": [
      "The output of 0 AND 0 is 0\n"
     ]
    }
   ],
   "source": [
    "print(f'The output of {x1} AND {x2} is {out}')"
   ]
  },
  {
   "cell_type": "markdown",
   "metadata": {},
   "source": [
    "## and_gate class"
   ]
  },
  {
   "cell_type": "code",
   "execution_count": 3,
   "metadata": {},
   "outputs": [],
   "source": [
    "class LogicGate:\n",
    "    def __init__(self):\n",
    "        self.w1 = 0.5\n",
    "        self.w2 = 0.5\n",
    "        self.th = 0.99\n",
    "        self.out = None\n",
    "        self.x1 = self.x2 = None\n",
    "\n",
    "\n",
    "    def print_output(self):\n",
    "        print(f'{self.x1} AND {self.x2} is {self.out}')\n",
    "    \n",
    "    \n",
    "    def and_gate(self, x1, x2):\n",
    "        self.x1 = x1\n",
    "        self.x2 = x2\n",
    "\n",
    "        if x1*self.w1 + x2*self.w2 > self.th:\n",
    "            self.out = 1\n",
    "            return 1\n",
    "        else:\n",
    "            self.out = 0\n",
    "            return 0"
   ]
  },
  {
   "cell_type": "code",
   "execution_count": 4,
   "metadata": {},
   "outputs": [
    {
     "name": "stdout",
     "output_type": "stream",
     "text": [
      "1 AND 0 is 0\n"
     ]
    }
   ],
   "source": [
    "logic_gate = LogicGate()\n",
    "logic_gate.and_gate(1, 0)\n",
    "logic_gate.print_output()"
   ]
  }
 ],
 "metadata": {
  "kernelspec": {
   "display_name": "ece5831-2023",
   "language": "python",
   "name": "python3"
  },
  "language_info": {
   "codemirror_mode": {
    "name": "ipython",
    "version": 3
   },
   "file_extension": ".py",
   "mimetype": "text/x-python",
   "name": "python",
   "nbconvert_exporter": "python",
   "pygments_lexer": "ipython3",
   "version": "3.8.18"
  },
  "orig_nbformat": 4
 },
 "nbformat": 4,
 "nbformat_minor": 2
}
